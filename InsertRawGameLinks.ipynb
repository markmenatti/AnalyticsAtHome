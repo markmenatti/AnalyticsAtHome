{
 "cells": [
  {
   "cell_type": "code",
   "execution_count": 18,
   "id": "090454e0",
   "metadata": {},
   "outputs": [],
   "source": [
    "import psycopg2\n",
    "import csv\n",
    "import pandas as pd"
   ]
  },
  {
   "cell_type": "code",
   "execution_count": 19,
   "id": "7651ab61",
   "metadata": {},
   "outputs": [],
   "source": [
    "conn = psycopg2.connect(\n",
    "    database=\"postgres\",\n",
    "    user='postgres',\n",
    "    password='Samara1!',\n",
    "    host='localhost',\n",
    "    port='5432'\n",
    ")\n",
    "\n",
    "cursor = conn.cursor()"
   ]
  },
  {
   "cell_type": "code",
   "execution_count": 20,
   "id": "a0e126ac",
   "metadata": {},
   "outputs": [],
   "source": [
    "with open('GameLinks/HistoricalRegular1990to2021.csv', newline='') as f:\n",
    "    reader = csv.reader(f)\n",
    "    data = list(reader)"
   ]
  },
  {
   "cell_type": "code",
   "execution_count": 16,
   "id": "36c95b8e",
   "metadata": {},
   "outputs": [
    {
     "data": {
      "text/html": [
       "<div>\n",
       "<style scoped>\n",
       "    .dataframe tbody tr th:only-of-type {\n",
       "        vertical-align: middle;\n",
       "    }\n",
       "\n",
       "    .dataframe tbody tr th {\n",
       "        vertical-align: top;\n",
       "    }\n",
       "\n",
       "    .dataframe thead th {\n",
       "        text-align: right;\n",
       "    }\n",
       "</style>\n",
       "<table border=\"1\" class=\"dataframe\">\n",
       "  <thead>\n",
       "    <tr style=\"text-align: right;\">\n",
       "      <th></th>\n",
       "      <th>0</th>\n",
       "      <th>1</th>\n",
       "      <th>2</th>\n",
       "      <th>3</th>\n",
       "      <th>4</th>\n",
       "      <th>5</th>\n",
       "    </tr>\n",
       "  </thead>\n",
       "  <tbody>\n",
       "    <tr>\n",
       "      <th>0</th>\n",
       "      <td>/boxes/SDN/SDN202104010.shtml</td>\n",
       "      <td>2021</td>\n",
       "      <td>ARI</td>\n",
       "      <td>1</td>\n",
       "      <td>0</td>\n",
       "      <td>0</td>\n",
       "    </tr>\n",
       "    <tr>\n",
       "      <th>1</th>\n",
       "      <td>/boxes/SDN/SDN202104020.shtml</td>\n",
       "      <td>2021</td>\n",
       "      <td>ARI</td>\n",
       "      <td>1</td>\n",
       "      <td>0</td>\n",
       "      <td>0</td>\n",
       "    </tr>\n",
       "    <tr>\n",
       "      <th>2</th>\n",
       "      <td>/boxes/SDN/SDN202104030.shtml</td>\n",
       "      <td>2021</td>\n",
       "      <td>ARI</td>\n",
       "      <td>1</td>\n",
       "      <td>0</td>\n",
       "      <td>0</td>\n",
       "    </tr>\n",
       "    <tr>\n",
       "      <th>3</th>\n",
       "      <td>/boxes/SDN/SDN202104040.shtml</td>\n",
       "      <td>2021</td>\n",
       "      <td>ARI</td>\n",
       "      <td>1</td>\n",
       "      <td>0</td>\n",
       "      <td>0</td>\n",
       "    </tr>\n",
       "    <tr>\n",
       "      <th>4</th>\n",
       "      <td>/boxes/COL/COL202104060.shtml</td>\n",
       "      <td>2021</td>\n",
       "      <td>ARI</td>\n",
       "      <td>1</td>\n",
       "      <td>0</td>\n",
       "      <td>0</td>\n",
       "    </tr>\n",
       "    <tr>\n",
       "      <th>...</th>\n",
       "      <td>...</td>\n",
       "      <td>...</td>\n",
       "      <td>...</td>\n",
       "      <td>...</td>\n",
       "      <td>...</td>\n",
       "      <td>...</td>\n",
       "    </tr>\n",
       "    <tr>\n",
       "      <th>137245</th>\n",
       "      <td>/boxes/BOS/BOS199009290.shtml</td>\n",
       "      <td>1990</td>\n",
       "      <td>TOR</td>\n",
       "      <td>1</td>\n",
       "      <td>0</td>\n",
       "      <td>0</td>\n",
       "    </tr>\n",
       "    <tr>\n",
       "      <th>137246</th>\n",
       "      <td>/boxes/BOS/BOS199009300.shtml</td>\n",
       "      <td>1990</td>\n",
       "      <td>TOR</td>\n",
       "      <td>1</td>\n",
       "      <td>0</td>\n",
       "      <td>0</td>\n",
       "    </tr>\n",
       "    <tr>\n",
       "      <th>137247</th>\n",
       "      <td>/boxes/BAL/BAL199010010.shtml</td>\n",
       "      <td>1990</td>\n",
       "      <td>TOR</td>\n",
       "      <td>1</td>\n",
       "      <td>0</td>\n",
       "      <td>0</td>\n",
       "    </tr>\n",
       "    <tr>\n",
       "      <th>137248</th>\n",
       "      <td>/boxes/BAL/BAL199010020.shtml</td>\n",
       "      <td>1990</td>\n",
       "      <td>TOR</td>\n",
       "      <td>1</td>\n",
       "      <td>0</td>\n",
       "      <td>0</td>\n",
       "    </tr>\n",
       "    <tr>\n",
       "      <th>137249</th>\n",
       "      <td>/boxes/BAL/BAL199010030.shtml</td>\n",
       "      <td>1990</td>\n",
       "      <td>TOR</td>\n",
       "      <td>1</td>\n",
       "      <td>0</td>\n",
       "      <td>0</td>\n",
       "    </tr>\n",
       "  </tbody>\n",
       "</table>\n",
       "<p>137250 rows × 6 columns</p>\n",
       "</div>"
      ],
      "text/plain": [
       "                                    0     1    2  3  4  5\n",
       "0       /boxes/SDN/SDN202104010.shtml  2021  ARI  1  0  0\n",
       "1       /boxes/SDN/SDN202104020.shtml  2021  ARI  1  0  0\n",
       "2       /boxes/SDN/SDN202104030.shtml  2021  ARI  1  0  0\n",
       "3       /boxes/SDN/SDN202104040.shtml  2021  ARI  1  0  0\n",
       "4       /boxes/COL/COL202104060.shtml  2021  ARI  1  0  0\n",
       "...                               ...   ...  ... .. .. ..\n",
       "137245  /boxes/BOS/BOS199009290.shtml  1990  TOR  1  0  0\n",
       "137246  /boxes/BOS/BOS199009300.shtml  1990  TOR  1  0  0\n",
       "137247  /boxes/BAL/BAL199010010.shtml  1990  TOR  1  0  0\n",
       "137248  /boxes/BAL/BAL199010020.shtml  1990  TOR  1  0  0\n",
       "137249  /boxes/BAL/BAL199010030.shtml  1990  TOR  1  0  0\n",
       "\n",
       "[137250 rows x 6 columns]"
      ]
     },
     "execution_count": 16,
     "metadata": {},
     "output_type": "execute_result"
    }
   ],
   "source": [
    "#pd.DataFrame(data)"
   ]
  },
  {
   "cell_type": "code",
   "execution_count": 21,
   "id": "02477e32",
   "metadata": {},
   "outputs": [
    {
     "name": "stdout",
     "output_type": "stream",
     "text": [
      "List has been inserted to employee table successfully...\n"
     ]
    }
   ],
   "source": [
    "for d in data:\n",
    "    cursor.execute(\"INSERT into etl.game_links(link_url, calendar_year, team, is_regular, is_playoff, is_spring) VALUES (%s, %s, %s, %s, %s, %s)\", d)\n",
    "  \n",
    "  \n",
    "print(\"List has been inserted to employee table successfully...\")"
   ]
  },
  {
   "cell_type": "code",
   "execution_count": 22,
   "id": "d2d14579",
   "metadata": {},
   "outputs": [],
   "source": [
    "conn.commit()\n",
    "conn.close()"
   ]
  },
  {
   "cell_type": "code",
   "execution_count": null,
   "id": "4d12ec56",
   "metadata": {},
   "outputs": [],
   "source": []
  }
 ],
 "metadata": {
  "kernelspec": {
   "display_name": "Python 3 (ipykernel)",
   "language": "python",
   "name": "python3"
  },
  "language_info": {
   "codemirror_mode": {
    "name": "ipython",
    "version": 3
   },
   "file_extension": ".py",
   "mimetype": "text/x-python",
   "name": "python",
   "nbconvert_exporter": "python",
   "pygments_lexer": "ipython3",
   "version": "3.10.4"
  }
 },
 "nbformat": 4,
 "nbformat_minor": 5
}
