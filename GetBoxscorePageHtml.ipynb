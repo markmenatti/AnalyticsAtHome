{
 "cells": [
  {
   "cell_type": "code",
   "execution_count": 1,
   "id": "84dda31a",
   "metadata": {},
   "outputs": [],
   "source": [
    "import psycopg2\n",
    "import requests\n",
    "from datetime import datetime\n",
    "import time\n",
    "from bs4 import BeautifulSoup\n",
    "import pandas as pd\n",
    "import os\n",
    "import codecs"
   ]
  },
  {
   "cell_type": "code",
   "execution_count": 2,
   "id": "09d747f6",
   "metadata": {},
   "outputs": [],
   "source": [
    "connection = psycopg2.connect(\n",
    "    database=\"postgres\",\n",
    "    user='postgres',\n",
    "    password='Samara1!',\n",
    "    host='localhost',\n",
    "    port='5432'\n",
    ")\n",
    "\n",
    "cur = connection.cursor()"
   ]
  },
  {
   "cell_type": "code",
   "execution_count": 3,
   "id": "c2eb9e35",
   "metadata": {},
   "outputs": [],
   "source": [
    "postgreSQL_select_Query = (\"\"\"\n",
    "                           SELECT dg.link_url, dg.game_bk, dg.calendar_year, dg.calendar_month, dg.calendar_day \n",
    "                           FROM daily_games dg \n",
    "                           LEFT JOIN etl.box_score_capture_record bs ON bs.game_bk = dg.game_bk \n",
    "                           WHERE bs.game_bk IS NULL \n",
    "                           ORDER BY date_key DESC \n",
    "                           \"\"\")"
   ]
  },
  {
   "cell_type": "code",
   "execution_count": 4,
   "id": "0b3fe067",
   "metadata": {},
   "outputs": [],
   "source": [
    "cur.execute(postgreSQL_select_Query)\n",
    "box_links = cur.fetchall()"
   ]
  },
  {
   "cell_type": "code",
   "execution_count": null,
   "id": "b0d48af1",
   "metadata": {},
   "outputs": [],
   "source": [
    "l = []\n",
    "for row in box_links:\n",
    "    x=[]\n",
    "    URL = \"https://www.baseball-reference.com\"+row[0]\n",
    "    page = requests.get(URL)\n",
    "    path = \"GameFiles/\" + row[2] + \"/\" + row[3] + \"/\" + row[4]\n",
    "    isExist = os.path.exists(path)\n",
    "    if not isExist:\n",
    "        os.makedirs(path)\n",
    "    f = open(\"GameFiles/\" + row[2] + \"/\" + row[3] + \"/\" + row[4] + \"/\" + row[1]+\".html\",\"w+\")\n",
    "    f.write(str(page.content))\n",
    "    f.close()\n",
    "    now = datetime.now()\n",
    "    dt_string = now.strftime(\"%Y/%m/%d %H:%M:%S\")\n",
    "    x = (row[1],dt_string)\n",
    "    cur.execute(\"INSERT into etl.box_score_capture_record(game_bk, created_at) VALUES (%s, %s)\", x)\n",
    "    connection.commit()\n",
    "    time.sleep(3)\n",
    "cur.close()\n",
    "connection.close()"
   ]
  },
  {
   "cell_type": "code",
   "execution_count": null,
   "id": "3df461e2",
   "metadata": {},
   "outputs": [],
   "source": []
  }
 ],
 "metadata": {
  "kernelspec": {
   "display_name": "Python 3 (ipykernel)",
   "language": "python",
   "name": "python3"
  },
  "language_info": {
   "codemirror_mode": {
    "name": "ipython",
    "version": 3
   },
   "file_extension": ".py",
   "mimetype": "text/x-python",
   "name": "python",
   "nbconvert_exporter": "python",
   "pygments_lexer": "ipython3",
   "version": "3.10.4"
  }
 },
 "nbformat": 4,
 "nbformat_minor": 5
}
