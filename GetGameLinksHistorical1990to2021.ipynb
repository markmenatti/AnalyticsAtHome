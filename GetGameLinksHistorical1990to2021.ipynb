{
 "cells": [
  {
   "cell_type": "code",
   "execution_count": 1,
   "id": "7d798568",
   "metadata": {},
   "outputs": [],
   "source": [
    "import requests\n",
    "import pandas as pd\n",
    "import time\n",
    "from bs4 import BeautifulSoup\n",
    "from datetime import date"
   ]
  },
  {
   "cell_type": "code",
   "execution_count": 2,
   "id": "ce228fb6",
   "metadata": {},
   "outputs": [],
   "source": [
    "todays_date = date.today()\n",
    "starting_year = todays_date.year - 1\n",
    "teams = [\"ARI\", \"ATL\", \"BAL\", \"BOS\", \"CHC\", \"CHW\", \"CIN\", \"CLE\",\n",
    "         \"COL\", \"DET\", \"HOU\", \"KCR\", \"ANA\", \"LAD\", \"FLA\", \"MIL\",\n",
    "         \"MIN\", \"NYM\", \"NYY\", \"OAK\", \"PHI\", \"PIT\", \"SDP\", \"SFG\", \n",
    "         \"SEA\", \"STL\", \"TBD\", \"TEX\", \"TOR\", \"WSN\"]"
   ]
  },
  {
   "cell_type": "code",
   "execution_count": 3,
   "id": "b2dfc32e",
   "metadata": {},
   "outputs": [
    {
     "name": "stdout",
     "output_type": "stream",
     "text": [
      "2021\n",
      "2020\n",
      "2019\n",
      "2018\n",
      "2017\n",
      "2016\n",
      "2015\n",
      "2014\n",
      "2013\n",
      "2012\n",
      "2011\n",
      "2010\n",
      "2009\n",
      "2008\n",
      "2007\n",
      "2006\n",
      "2005\n",
      "2004\n",
      "2003\n",
      "2002\n",
      "2001\n",
      "2000\n",
      "1999\n",
      "1998\n",
      "1997\n",
      "1996\n",
      "1995\n",
      "1994\n",
      "1993\n",
      "1992\n",
      "1991\n",
      "1990\n"
     ]
    }
   ],
   "source": [
    "year = starting_year\n",
    "l = []\n",
    "while year >= 1990:\n",
    "    print(year)\n",
    "    for team in teams:\n",
    "        URL = \"https://www.baseball-reference.com/teams/\"+team+\"/\"+str(year)+\"-schedule-scores.shtml\"\n",
    "        page = requests.get(URL)\n",
    "        soup = BeautifulSoup(page.content, \"html.parser\")\n",
    "        results = soup.find(id=\"content\")\n",
    "        job_elements = results.find_all(\"span\", class_=\"poptip\")\n",
    "        for job_element in job_elements:\n",
    "            game = job_element.find(\"a\")\n",
    "            l.append([game.get('href'),year,team,1,0,0])\n",
    "        time.sleep(2)\n",
    "    year -= 1"
   ]
  },
  {
   "cell_type": "code",
   "execution_count": 4,
   "id": "fdfc4c90",
   "metadata": {},
   "outputs": [],
   "source": [
    "df = pd.DataFrame(l, columns=['link_url','calendar_year','team', 'is_regular', 'is_playoff', 'is_spring']).dropna()\n",
    "df.to_csv('GameLinks/HistoricalRegular1990to2021.csv', encoding='utf-8', index=False)"
   ]
  },
  {
   "cell_type": "code",
   "execution_count": null,
   "id": "28cd9d5d",
   "metadata": {},
   "outputs": [],
   "source": []
  }
 ],
 "metadata": {
  "kernelspec": {
   "display_name": "Python 3 (ipykernel)",
   "language": "python",
   "name": "python3"
  },
  "language_info": {
   "codemirror_mode": {
    "name": "ipython",
    "version": 3
   },
   "file_extension": ".py",
   "mimetype": "text/x-python",
   "name": "python",
   "nbconvert_exporter": "python",
   "pygments_lexer": "ipython3",
   "version": "3.10.4"
  }
 },
 "nbformat": 4,
 "nbformat_minor": 5
}
